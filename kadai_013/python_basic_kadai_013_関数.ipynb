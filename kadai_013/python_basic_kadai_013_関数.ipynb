{
  "nbformat": 4,
  "nbformat_minor": 0,
  "metadata": {
    "colab": {
      "provenance": []
    },
    "kernelspec": {
      "name": "python3",
      "display_name": "Python 3"
    },
    "language_info": {
      "name": "python"
    }
  },
  "cells": [
    {
      "cell_type": "markdown",
      "source": [
        "消費税を加えた計算結果を返す関数を記述する\n",
        "\n",
        "「結果を返す関数」なので戻り値を使用する\n",
        "\n",
        "第1引数に商品の金額、第2引数に消費税（10%）を設定する"
      ],
      "metadata": {
        "id": "YD9Y7v_jWQLj"
      }
    },
    {
      "cell_type": "code",
      "execution_count": 2,
      "metadata": {
        "colab": {
          "base_uri": "https://localhost:8080/"
        },
        "id": "9z67dFT-WF8t",
        "outputId": "704dc8cb-9f56-4b34-fc58-f5e64bb2674b"
      },
      "outputs": [
        {
          "output_type": "execute_result",
          "data": {
            "text/plain": [
              "1100.0"
            ]
          },
          "metadata": {},
          "execution_count": 2
        }
      ],
      "source": [
        "def calculate_total(price: int,tax = 0.1):\n",
        "    total = price + (price * tax)\n",
        "    return total\n",
        "\n",
        "calculate_total(1000)"
      ]
    }
  ]
}