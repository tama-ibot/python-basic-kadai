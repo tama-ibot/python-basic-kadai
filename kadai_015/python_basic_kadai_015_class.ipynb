{
  "nbformat": 4,
  "nbformat_minor": 0,
  "metadata": {
    "colab": {
      "provenance": []
    },
    "kernelspec": {
      "name": "python3",
      "display_name": "Python 3"
    },
    "language_info": {
      "name": "python"
    }
  },
  "cells": [
    {
      "cell_type": "markdown",
      "source": [
        "名前(name)と年齢(age)の属性を持つHumanクラスを作成してください。\n",
        "nameとageを標準出力(print)するメソッド(printinfo)を追加してください。\n",
        "\n",
        "Humanクラスのインスタンスは、変数に代入してプログラム内で使用してください。"
      ],
      "metadata": {
        "id": "Ze320d744qrs"
      }
    },
    {
      "cell_type": "code",
      "execution_count": 12,
      "metadata": {
        "colab": {
          "base_uri": "https://localhost:8080/"
        },
        "id": "kVFxyp2D4RZv",
        "outputId": "cbe9d564-0578-40fe-8366-49cfd772b531"
      },
      "outputs": [
        {
          "output_type": "stream",
          "name": "stdout",
          "text": [
            "太郎 30\n",
            "花子 25\n"
          ]
        }
      ],
      "source": [
        "class Human:\n",
        "    # コンストラクタを定義する\n",
        "    def __init__(self, name, age):\n",
        "        self.name = name\n",
        "        self.age = age\n",
        "\n",
        "    # printinfoメソッドを定義する\n",
        "    def printinfo(self):\n",
        "        print(self.name, self.age)\n",
        "\n",
        "# インスタンス化し、変数personに代入\n",
        "person1 = Human(\"太郎\", 30)\n",
        "person2 = Human(\"花子\", 25)\n",
        "\n",
        "# 変数personを通じてメソッドを実行する\n",
        "person1.printinfo()\n",
        "person2.printinfo()"
      ]
    }
  ]
}