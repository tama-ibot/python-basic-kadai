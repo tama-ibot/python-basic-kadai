{
  "nbformat": 4,
  "nbformat_minor": 0,
  "metadata": {
    "colab": {
      "provenance": []
    },
    "kernelspec": {
      "name": "python3",
      "display_name": "Python 3"
    },
    "language_info": {
      "name": "python"
    }
  },
  "cells": [
    {
      "cell_type": "code",
      "execution_count": 2,
      "metadata": {
        "colab": {
          "base_uri": "https://localhost:8080/"
        },
        "id": "VqbZZT3NaSIJ",
        "outputId": "6c3b596f-f771-4298-c5cd-74d8c04a5f0f"
      },
      "outputs": [
        {
          "output_type": "stream",
          "name": "stdout",
          "text": [
            "330.0\n"
          ]
        }
      ],
      "source": [
        "price1 = 100\n",
        "price2 = 200\n",
        "#taxをローカルスコープからグローバルスコープに変更\n",
        "tax = 1.1\n",
        "\n",
        "def total():\n",
        "    return price1 + price2\n",
        "\n",
        "print (total() * tax)"
      ]
    },
    {
      "cell_type": "markdown",
      "source": [
        "以下のコードを実行するとスコープに関するエラーが発生します。エラーを修正して、正しく計算結果が出力されるようにしてください。\n",
        "\n",
        "price1 = 100\n",
        "price2 = 200\n",
        "\n",
        "def total():\n",
        "    tax = 1.1\n",
        "    return price1 + price2\n",
        "\n",
        "print (total() * tax)"
      ],
      "metadata": {
        "id": "uJAuzwggaScN"
      }
    }
  ]
}