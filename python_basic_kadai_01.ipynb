{
  "nbformat": 4,
  "nbformat_minor": 0,
  "metadata": {
    "colab": {
      "provenance": []
    },
    "kernelspec": {
      "name": "python3",
      "display_name": "Python 3"
    },
    "language_info": {
      "name": "python"
    }
  },
  "cells": [
    {
      "cell_type": "code",
      "execution_count": 5,
      "metadata": {
        "colab": {
          "base_uri": "https://localhost:8080/"
        },
        "id": "R0B0Gi64rKnx",
        "outputId": "822c7d67-e27e-4932-913b-62ce92adc850"
      },
      "outputs": [
        {
          "output_type": "stream",
          "name": "stdout",
          "text": [
            "75.0cm²\n"
          ]
        }
      ],
      "source": [
        "#台形の計算要素を変数に代入\n",
        "top_edge = 10\n",
        "bottom_edge = 20\n",
        "height = 5\n",
        "#計算結果を変数に代入\n",
        "answer = (top_edge + bottom_edge) * height / 2\n",
        "\n",
        "#計算結果を文字列と結合して表示\n",
        "print (str(answer) + \"cm²\")"
      ]
    },
    {
      "cell_type": "markdown",
      "source": [
        "上辺：10cm\n",
        "下辺：20cm\n",
        "高さ：5cm\n",
        "\n",
        "公式：台形の面積 =（上辺＋下辺）× 高さ ÷ 2\n"
      ],
      "metadata": {
        "id": "WMPqmqWqrVyQ"
      }
    }
  ]
}