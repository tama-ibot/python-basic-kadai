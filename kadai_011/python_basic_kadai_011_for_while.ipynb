{
  "nbformat": 4,
  "nbformat_minor": 0,
  "metadata": {
    "colab": {
      "provenance": []
    },
    "kernelspec": {
      "name": "python3",
      "display_name": "Python 3"
    },
    "language_info": {
      "name": "python"
    }
  },
  "cells": [
    {
      "cell_type": "code",
      "execution_count": 6,
      "metadata": {
        "colab": {
          "base_uri": "https://localhost:8080/"
        },
        "id": "b2TTt89AKYgT",
        "outputId": "ec57331a-10c5-4b6e-8ae5-c3640c1f2aa3"
      },
      "outputs": [
        {
          "output_type": "stream",
          "name": "stdout",
          "text": [
            "水\n",
            "金\n",
            "地\n",
            "火\n",
            "木\n",
            "土\n",
            "天\n",
            "海\n",
            "冥\n",
            " 水\n",
            " 金\n",
            " 地\n",
            " 火\n",
            " 木\n",
            " 土\n",
            " 天\n",
            " 海\n",
            " 冥\n"
          ]
        }
      ],
      "source": [
        "array = [\"水\",\"金\",\"地\",\"火\",\"木\",\"土\",\"天\",\"海\",\"冥\"]\n",
        "for i in range(0,9):\n",
        "    print(array[i])\n",
        "for i in range(0,9):\n",
        "    print(f\" {array[i]}\")"
      ]
    },
    {
      "cell_type": "code",
      "source": [
        "array = [\"水\",\"金\",\"地\",\"火\",\"木\",\"土\",\"天\",\"海\",\"冥\"]\n",
        "\n",
        "i = 0\n",
        "\n",
        "while i < len(array):\n",
        "    print(array[i])\n",
        "    i += 1\n",
        "\n",
        "i = 0\n",
        "\n",
        "while i < len(array):\n",
        "    print(f\" {array[i]} \")\n",
        "    i += 1"
      ],
      "metadata": {
        "colab": {
          "base_uri": "https://localhost:8080/"
        },
        "id": "-c7-RLs3Lrfz",
        "outputId": "e47d0c13-622c-4f3f-a045-326e797a73be"
      },
      "execution_count": 11,
      "outputs": [
        {
          "output_type": "stream",
          "name": "stdout",
          "text": [
            "水\n",
            "金\n",
            "地\n",
            "火\n",
            "木\n",
            "土\n",
            "天\n",
            "海\n",
            "冥\n",
            " 水 \n",
            " 金 \n",
            " 地 \n",
            " 火 \n",
            " 木 \n",
            " 土 \n",
            " 天 \n",
            " 海 \n",
            " 冥 \n"
          ]
        }
      ]
    }
  ]
}