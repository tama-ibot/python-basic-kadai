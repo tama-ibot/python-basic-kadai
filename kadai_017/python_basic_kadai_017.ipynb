{
  "nbformat": 4,
  "nbformat_minor": 0,
  "metadata": {
    "colab": {
      "provenance": []
    },
    "kernelspec": {
      "name": "python3",
      "display_name": "Python 3"
    },
    "language_info": {
      "name": "python"
    }
  },
  "cells": [
    {
      "cell_type": "markdown",
      "source": [
        "名前(name)と年齢(age)の属性を持つHumanクラスを作成してください。\n",
        "\n",
        "Humanクラスには、以下の条件で標準出力(print)するcheck_adultメソッドを追加してください。\n",
        "\n",
        "ageが20以上の場合に大人であること\n",
        "\n",
        "そうでない場合に大人でないこと\n",
        "\n",
        "Humanクラスのインスタンスを複数生成してリストに追加し、リストの要素数分だけcheck_adultメソッドを呼び出してください。"
      ],
      "metadata": {
        "id": "fu40qLKpH62r"
      }
    },
    {
      "cell_type": "code",
      "source": [
        "#名前(name)と年齢(age)の属性を持つHumanクラス\n",
        "class Human:\n",
        "    def __init__(self, name, age):\n",
        "        self.name = name\n",
        "        self.age = age\n",
        "#check_adultメソッドを追加\n",
        "    def check_adult(self):\n",
        "        if self.age >= 20:\n",
        "            print(f\"{self.name}は大人である。\")\n",
        "        else:\n",
        "            print(f\"{self.name}は大人ではない。\")\n",
        "\n",
        "#インスタンス化\n",
        "humans = [\n",
        "    Human(\"一郎\", 30),\n",
        "    Human(\"次郎\", 10),\n",
        "    Human(\"三郎\", 20),\n",
        "]\n",
        "\n",
        "#リストの要素数分だけcheck_adultメソッドを呼び出す\n",
        "for human_check_adult in humans:\n",
        "    human_check_adult.check_adult()"
      ],
      "metadata": {
        "colab": {
          "base_uri": "https://localhost:8080/"
        },
        "id": "6GuKpMSYI_BK",
        "outputId": "ad0944b7-ec3b-418a-8445-642c508a75e4"
      },
      "execution_count": 13,
      "outputs": [
        {
          "output_type": "stream",
          "name": "stdout",
          "text": [
            "一郎は大人である。\n",
            "次郎は大人ではない。\n",
            "三郎は大人である。\n"
          ]
        }
      ]
    }
  ]
}